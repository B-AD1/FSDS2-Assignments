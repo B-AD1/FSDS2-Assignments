{
  "nbformat": 4,
  "nbformat_minor": 0,
  "metadata": {
    "colab": {
      "provenance": []
    },
    "kernelspec": {
      "name": "python3",
      "display_name": "Python 3"
    },
    "language_info": {
      "name": "python"
    }
  },
  "cells": [
    {
      "cell_type": "markdown",
      "source": [
        "1. What are the two values of the Boolean data type? How do you write them?\n",
        "\n",
        "**Ans:** The two values of the boolean data type are:\n",
        " - True\n",
        " - False\n",
        " \n",
        " These values must be written as the first letter of the values should always be capital, only the it will be considerd as boolean data type."
      ],
      "metadata": {
        "id": "ozXWvGotyzjB"
      }
    },
    {
      "cell_type": "markdown",
      "source": [
        "---"
      ],
      "metadata": {
        "id": "-vy1PMKGbAdY"
      }
    },
    {
      "cell_type": "markdown",
      "source": [
        "2. What are the three different types of Boolean operators?\n",
        "\n",
        "**Ans:** The three different types of Boolean operators are:\n",
        "  \n",
        "  - AND - The comparison result is False if either of the values are False.\n",
        "  - OR  - The comparison result is True if either of the values are True.\n",
        "  - NOT - The result is opposite of the value (not True is False/ not False is True)."
      ],
      "metadata": {
        "id": "uA2PnfctbIVh"
      }
    },
    {
      "cell_type": "markdown",
      "source": [
        "---"
      ],
      "metadata": {
        "id": "Ff1mctPidEv4"
      }
    },
    {
      "cell_type": "markdown",
      "source": [
        "3. Make a list of each Boolean operator's truth tables (i.e. every possible combination of Boolean values for the operator and what it evaluate ).\n",
        "\n",
        "**Ans:** \n",
        "\n",
        "- AND truth table:\n",
        "\n",
        "| A | B | Result |\n",
        "|---|---|--------|\n",
        "| T | T | T      |\n",
        "| T | F | F      |\n",
        "| F | T | F      |\n",
        "| F | F | F      |\n",
        "\n",
        "- OR truth table:\n",
        "\n",
        "| A | B | Result |\n",
        "|---|---|--------|\n",
        "| T | T | T      |\n",
        "| T | F | T      |\n",
        "| F | T | T      |\n",
        "| F | F | F      |\n",
        "\n",
        "- NOT truth table:\n",
        "\n",
        "| A | Result |\n",
        "|---|--------|\n",
        "| T | F      |\n",
        "| F | T      |"
      ],
      "metadata": {
        "id": "-bB5xyfAdHLE"
      }
    },
    {
      "cell_type": "markdown",
      "source": [
        "---"
      ],
      "metadata": {
        "id": "H8VMfK4jk2a_"
      }
    },
    {
      "cell_type": "markdown",
      "source": [
        "4. What are the values of the following expressions?\n",
        "```\n",
        "(5 > 4) and (3 == 5)\n",
        "not (5 > 4)\n",
        "(5 > 4) or (3 == 5)\n",
        "not ((5 > 4) or (3 == 5))\n",
        "(True and True) and (True == False)\n",
        "(not False) or (not True)\n",
        "```\n",
        "\n",
        "**Ans:** \n",
        "- (5 > 4) and (3 == 5) --> True and False --> False\n",
        "- not (5 > 4) --> not True --> False\n",
        "- (5 > 4) or (3 == 5) --> True or False --> True\n",
        "- not ((5 > 4) or (3 == 5)) --> not ( True or False ) --> not True --> False\n",
        "- (True and True) and (True == False) --> True and False --> False\n",
        "- (not False) or (not True) --> True or False --> True"
      ],
      "metadata": {
        "id": "PaMyRe3wk4Zp"
      }
    },
    {
      "cell_type": "markdown",
      "source": [
        "---"
      ],
      "metadata": {
        "id": "shGGcLz2bDCH"
      }
    },
    {
      "cell_type": "markdown",
      "source": [
        "5. What are the six comparison operators?\n",
        "\n",
        "**Ans:** The six comparison operators are:\n",
        "- Greater than (>)\n",
        "- Less than (<)\n",
        "- Greater than or equal to (>=)\n",
        "- Less than or equal to (<=)\n",
        "- Equal to (==)\n",
        "- Not equal to (!=)"
      ],
      "metadata": {
        "id": "hI68y41MocqU"
      }
    },
    {
      "cell_type": "markdown",
      "source": [
        "---"
      ],
      "metadata": {
        "id": "-DqGDcKBVm49"
      }
    },
    {
      "cell_type": "markdown",
      "source": [
        "6. How do you tell the difference between the equal to and assignment operators?Describe a condition and when you would use one.\n",
        "\n",
        "**Ans:** \"Equal to\" operator is denoted by \"==\" i.e., with two equal signs while the assignment operator is denoted by \"=\". Equal to operator is used when two values are being compared and the assignment operator is used when assigning a value to any variable or in any expressions.\n",
        "\n",
        "For example,\n",
        "Equal to operator is used as shown below:\n",
        "```\n",
        "#1\n",
        "if a==b:\n",
        "    print(\"Equal\")\n",
        "#2\n",
        "while res==True:\n",
        "    res = (a % b == 0)\n",
        "    print(value*res)\n",
        "```\n",
        "\n",
        "Assignment operator:\n",
        "```\n",
        "#1_Assigning values\n",
        "a = 5 \n",
        "\n",
        "#2_Assigning expressions\n",
        "x = n*(n+1)/2\n",
        "```\n"
      ],
      "metadata": {
        "id": "ibSoZ0Z5ViMP"
      }
    },
    {
      "cell_type": "markdown",
      "source": [
        "---"
      ],
      "metadata": {
        "id": "aD48KMXrYrIG"
      }
    },
    {
      "cell_type": "markdown",
      "source": [
        "7. Identify the three blocks in this code:\n",
        "```\n",
        "spam = 0 \n",
        "if spam == 10: \n",
        "    print('eggs') \n",
        "if spam > 5: \n",
        "    print('bacon') \n",
        "else: \n",
        "    print('ham') \n",
        "    print('spam') \n",
        "    print('spam')\n",
        "```\n",
        "\n",
        "**Ans:** There are three blocks. They are two if bllocks and one else block.\n",
        "Here in this code, as spam = 0, the both if statement conditions are false and so they dont run. \n",
        "\n",
        "- Thus, else statement is the only one which will run and outputs:\n",
        "```\n",
        "'ham'\n",
        "'spam'\n",
        "'spam'\n",
        "```"
      ],
      "metadata": {
        "id": "0z2BLDNSYtNG"
      }
    },
    {
      "cell_type": "markdown",
      "source": [
        "---"
      ],
      "metadata": {
        "id": "YB8pB92abAWi"
      }
    },
    {
      "cell_type": "markdown",
      "source": [
        "8. Write code that prints Hello if 1 is stored in spam, prints Howdy if 2 is stored in spam, and prints Greetings! if anything else is stored in spam."
      ],
      "metadata": {
        "id": "uCC9gPzHaiYk"
      }
    },
    {
      "cell_type": "code",
      "source": [
        "#Ans:\n",
        "\n",
        "spam = int(input())\n",
        "\n",
        "if spam == 1:\n",
        "    print('Hello')\n",
        "elif spam == 2:\n",
        "    print('Howdy')\n",
        "else:\n",
        "    print('Greetings!')"
      ],
      "metadata": {
        "id": "6gseo_sLa_um"
      },
      "execution_count": null,
      "outputs": []
    },
    {
      "cell_type": "markdown",
      "source": [
        "---"
      ],
      "metadata": {
        "id": "wJauZpSRbg9i"
      }
    },
    {
      "cell_type": "markdown",
      "source": [
        "9. If your programme is stuck in an endless loop, what keys you’ll press?\n",
        "\n",
        "**Ans:** When your code is stuck in an endless loop, it depends on which software you're working on. If you're working on Jupytor notebook, you could press 'ctrl + c' or on Google Colab, pressing 'ctrl + m' stops the loop or you could just stop run time by clicking it."
      ],
      "metadata": {
        "id": "ACyJZtIhbhvD"
      }
    },
    {
      "cell_type": "markdown",
      "source": [
        "---"
      ],
      "metadata": {
        "id": "mN3Qgz_TepKf"
      }
    },
    {
      "cell_type": "markdown",
      "source": [
        "10. How can you tell the difference between break and continue?\n",
        "\n",
        "**Ans:** Both break and continue are mainly used in loop statements.\n",
        "- Break is used when a condition of the statement is satisfied, break statememnt will break the loop and proceeds to the next code in line if there is any.\n",
        "- Continue is used:\n",
        "> When there are certain number of values but for a particular value, if the loop statement should skip running the code and proceed for the next value.\n",
        "\n"
      ],
      "metadata": {
        "id": "ZOdBxqR1ep3H"
      }
    },
    {
      "cell_type": "markdown",
      "source": [
        "\n",
        "---"
      ],
      "metadata": {
        "id": "kBGk2Sbjg447"
      }
    },
    {
      "cell_type": "markdown",
      "source": [
        "11. In a for loop, what is the difference between range(10), range(0, 10), and range(0, 10, 1)?\n",
        "\n",
        "**Ans:** The difference between range(10), range(0, 10) and range(0, 10, 1) is:\n",
        "Nothing. It only differs in the code writing and in wording. All three will result the same output of 0 to 9 numbers.\n",
        "\n",
        "Wording is aas follows:\n",
        "\n",
        "range(10) - in the range of 10\n",
        "\n",
        "range(0, 10) - in the range of 0 and 10.\n",
        "\n",
        "range(0, 10, 1) - in the range of 0 and 10 with the step of 1."
      ],
      "metadata": {
        "id": "r_3gSzYphDQu"
      }
    },
    {
      "cell_type": "markdown",
      "source": [
        "---"
      ],
      "metadata": {
        "id": "tuc809UMjlF8"
      }
    },
    {
      "cell_type": "markdown",
      "source": [
        "12. Write a short program that prints the numbers 1 to 10 using a for loop. Then write an equivalent program that prints the numbers 1 to 10 using a while loop."
      ],
      "metadata": {
        "id": "7o1-oioGjlz7"
      }
    },
    {
      "cell_type": "code",
      "source": [
        "#Ans:\n",
        "\n",
        "#using for loop:\n",
        "for i in range(11):\n",
        "    print(i)\n",
        "\n",
        "#using while loop:\n",
        "i = 1\n",
        "while i<11:\n",
        "    print(i)\n",
        "    i+=1"
      ],
      "metadata": {
        "id": "X0DAYrNur5xx"
      },
      "execution_count": null,
      "outputs": []
    },
    {
      "cell_type": "markdown",
      "source": [
        "---"
      ],
      "metadata": {
        "id": "3yzria8Ysidy"
      }
    },
    {
      "cell_type": "markdown",
      "source": [
        "13. If you had a function named bacon() inside a module named spam, how would you call it after importing spam?\n",
        "\n",
        "**Ans:** \n",
        "```\n",
        "import spam\n",
        "\n",
        "spam.bacon()\n",
        "```"
      ],
      "metadata": {
        "id": "1gymwz86sjCX"
      }
    },
    {
      "cell_type": "markdown",
      "source": [
        "---"
      ],
      "metadata": {
        "id": "uCGkSn10tuSl"
      }
    }
  ]
}