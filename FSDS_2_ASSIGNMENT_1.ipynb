{
  "nbformat": 4,
  "nbformat_minor": 0,
  "metadata": {
    "colab": {
      "provenance": []
    },
    "kernelspec": {
      "name": "python3",
      "display_name": "Python 3"
    },
    "language_info": {
      "name": "python"
    }
  },
  "cells": [
    {
      "cell_type": "markdown",
      "source": [
        "#Assignment_1"
      ],
      "metadata": {
        "id": "AtZSV8k94WRy"
      }
    },
    {
      "cell_type": "markdown",
      "source": [
        "1. In the below elements which of them are values or an expression? eg:- values can be integer or string and expressions will be mathematical operators.\n",
        " - *\n",
        " - &#39;hello&#39;\n",
        " - -87.8\n",
        " - -\n",
        " - /\n",
        " - +\n",
        " - 6\n",
        "\n",
        "\n",
        "**Ans:** (*, -, /, +) are the mathematical operators and ('hello', -87.9, 6) are the values.\n",
        "\n",
        "\n"
      ],
      "metadata": {
        "id": "a1nZmqCX4P4P"
      }
    },
    {
      "cell_type": "markdown",
      "source": [
        "---"
      ],
      "metadata": {
        "id": "_CqF4UPyRiIm"
      }
    },
    {
      "cell_type": "markdown",
      "source": [
        "2. What is the difference between string and variable?\n",
        "\n",
        "**Ans:** String is one of the data types used in the python. It can be any value inside single or double quotes (Eg. 'A12$', \"2asd#\"). \n",
        "\n",
        "Variable is a container used to store any type of data values."
      ],
      "metadata": {
        "id": "UwbqapT74miY"
      }
    },
    {
      "cell_type": "markdown",
      "source": [
        "---"
      ],
      "metadata": {
        "id": "6mBYwGHVRv4l"
      }
    },
    {
      "cell_type": "markdown",
      "source": [
        "3. Describe three different data types.\n",
        "\n",
        "**Ans:** There are many different data types used in python. \n",
        "- Integer data type\n",
        "- Float data type\n",
        "- String data type\n",
        "- Boolean data type\n",
        "- Complex data type etc.,.\n",
        "\n",
        "Let's discuss three of these data types - Integer, Float & Binary data type.\n",
        "\n",
        "1. Integer Data type: All positive and negative natural numbers including '0' are considered Integer data type. It is written as \"int\" in python. (Eg. ....-2,-1,0,1,2,3,....)\n",
        "\n",
        "2. Float data type: All positive and negative decimal numbers are considered as Float data type. It is written as \"float\" in python. (Eg. 7.15, -3.4, 0.52)\n",
        "\n",
        "3. Boolean Data type: Boolean data type has only two values in python - **True** and **False**. When two values are used in comparison, it return a Boolean answer. Mostly, it is used in loop functions, conditional functions. It is wriiten as \"bool\" in python."
      ],
      "metadata": {
        "id": "Qszri3hZRzVk"
      }
    },
    {
      "cell_type": "markdown",
      "source": [
        "---"
      ],
      "metadata": {
        "id": "hJclQPQ6SY1x"
      }
    },
    {
      "cell_type": "markdown",
      "source": [
        "4. What is an expression made up of? What do all expressions do?\n",
        "\n",
        "**Ans:** An expression is made up of operators and operands. Operands can be constants or numerical variables od different datat types. There are many different expressions in python and are named based on operators and operands used.\n",
        "\n",
        "All expressions are interpreted to return some value which can be of numerical, boolean, string etc.,."
      ],
      "metadata": {
        "id": "IeLubwcCad6e"
      }
    },
    {
      "cell_type": "markdown",
      "source": [
        "---"
      ],
      "metadata": {
        "id": "8al8biERdzqH"
      }
    },
    {
      "cell_type": "markdown",
      "source": [
        "5. What is the difference between an expression and a statement?\n",
        "\n",
        "**Ans:** Expressions are a combination of different operators and operands only that can be reduced to a value. Statements are a single line or several lines of code written in python. Even expressions are considered as statements but not all statements are expressions."
      ],
      "metadata": {
        "id": "_mn1hBsld094"
      }
    },
    {
      "cell_type": "markdown",
      "source": [
        "---"
      ],
      "metadata": {
        "id": "hJkBQ_Oko0Ax"
      }
    },
    {
      "cell_type": "markdown",
      "source": [
        "6. After running the following code, what does the variable bacon contain?\n",
        "```\n",
        "bacon = 22\n",
        "bacon + 1\n",
        "```\n",
        "**Ans:** The variable bacon contains the value 22. Because, the next line of code bacon + 1 will run but the value of it is not stored in any contatiner (not even in bacon) and so the value of the variable bacon does not change.\n"
      ],
      "metadata": {
        "id": "WXMvh_P8gdG6"
      }
    },
    {
      "cell_type": "markdown",
      "source": [
        "---"
      ],
      "metadata": {
        "id": "UYOjCoFioykI"
      }
    },
    {
      "cell_type": "markdown",
      "source": [
        "7. What should the values of the following two terms be?\n",
        "```\n",
        "'spam' + 'spamspam'\n",
        "'spam' * 3\n",
        "```\n",
        "\n",
        "**Ans:** The values of the both statements are the same.\n",
        "\n",
        "'spam' + 'spamspam' - results the value 'spamspamspam'\n",
        "\n",
        "'spam' * 3 - will result the same 'spamspamspam'.\n"
      ],
      "metadata": {
        "id": "07K1UPPriAhL"
      }
    },
    {
      "cell_type": "markdown",
      "source": [
        "---"
      ],
      "metadata": {
        "id": "eB0275KnownW"
      }
    },
    {
      "cell_type": "markdown",
      "source": [
        "8. Why is eggs a valid variable name while 100 is invalid?\n",
        "\n",
        "**Ans:** Variable names can be anything but the first character of it should be an alphabet and it should not contain any special characters (@, #, /, -, ?, ! etc.,.)\n",
        "\n",
        "So, eggs can be a variable but 100 is invalid because it started with a number and it can only be a value but not be a container to store the values."
      ],
      "metadata": {
        "id": "58NatCYMja_B"
      }
    },
    {
      "cell_type": "markdown",
      "source": [
        "---"
      ],
      "metadata": {
        "id": "Myo5ul4Xovr8"
      }
    },
    {
      "cell_type": "markdown",
      "source": [
        "9. What three functions can be used to get the integer, floating-point number, or string version of a value?\n",
        "\n",
        "**Ans:** The functions used to get the integer, floating-point number, or string version of a value are: int(), float(),  str()\n",
        "\n",
        "Note: Numbers can be converted into string data type but the alphabets cannot be converted into numerical data types."
      ],
      "metadata": {
        "id": "nmzCa_DTkk-5"
      }
    },
    {
      "cell_type": "code",
      "source": [
        "#consider a value of 3\n",
        "value = 3\n",
        "\n",
        "#To get the integer version of value\n",
        "print(int(3))\n",
        "\n",
        "#To get the float version of value\n",
        "print(float(3))\n",
        "\n",
        "#To get the string version of value\n",
        "print(str(3))"
      ],
      "metadata": {
        "id": "Wo6QfQ_km5bl"
      },
      "execution_count": null,
      "outputs": []
    },
    {
      "cell_type": "markdown",
      "source": [
        "---"
      ],
      "metadata": {
        "id": "JOdHFwHGogT2"
      }
    },
    {
      "cell_type": "markdown",
      "source": [
        "10. Why does this expression cause an error? How can you fix it?\n",
        "```\n",
        "'I have eaten' + 99 + 'burritos.'\n",
        "```\n",
        "\n",
        "**Ans:** The above statement returns an error because the operation was done between two different data types i.e., between string and integer data type. So, to fix the error, we need to convert all the values to the same data type.\n",
        "\n",
        "```\n",
        "'I have eaten' + '99' + 'burritos.'\n",
        "```\n",
        "Now the above statement should not return the error as all the values are of same data type.\n"
      ],
      "metadata": {
        "id": "ivp__9a5o5-j"
      }
    }
  ]
}